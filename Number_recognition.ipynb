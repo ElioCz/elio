{
  "nbformat": 4,
  "nbformat_minor": 0,
  "metadata": {
    "colab": {
      "provenance": [],
      "gpuType": "T4"
    },
    "kernelspec": {
      "name": "python3",
      "display_name": "Python 3"
    },
    "language_info": {
      "name": "python"
    },
    "accelerator": "GPU"
  },
  "cells": [
    {
      "cell_type": "code",
      "execution_count": 1,
      "metadata": {
        "id": "p9k712kb0PiL"
      },
      "outputs": [],
      "source": [
        "%matplotlib inline"
      ]
    },
    {
      "cell_type": "code",
      "source": [
        "import torch\n",
        "import torchvision\n",
        "import torchvision.transforms as transforms"
      ],
      "metadata": {
        "id": "90YgoIYd0ebY"
      },
      "execution_count": 2,
      "outputs": []
    },
    {
      "cell_type": "code",
      "source": [
        "device = torch.device('cuda:0' if torch.cuda.is_available() else 'cpu')\n",
        "\n",
        "# Assuming that we are on a CUDA machine, this should print a CUDA device:\n",
        "\n",
        "print(device)"
      ],
      "metadata": {
        "colab": {
          "base_uri": "https://localhost:8080/"
        },
        "id": "3ucCN-Um65nQ",
        "outputId": "3b6ad7f3-d8a5-4329-b2a1-9556489a3706"
      },
      "execution_count": 3,
      "outputs": [
        {
          "output_type": "stream",
          "name": "stdout",
          "text": [
            "cuda:0\n"
          ]
        }
      ]
    },
    {
      "cell_type": "code",
      "source": [
        "transform = transforms.Compose([transforms.ToTensor()])\n",
        "\n",
        "batch_size = 4\n",
        "\n",
        "trainset = torchvision.datasets.MNIST(root='./data', train=True,\n",
        "                                        download=True, transform=transform)\n",
        "trainloader = torch.utils.data.DataLoader(trainset, batch_size=batch_size,\n",
        "                                          shuffle=True, num_workers=2)\n",
        "\n",
        "testset = torchvision.datasets.MNIST(root='./data', train=False,\n",
        "                                       download=True, transform=transform)\n",
        "testloader = torch.utils.data.DataLoader(testset, batch_size=batch_size,\n",
        "                                         shuffle=False, num_workers=2)\n",
        "\n",
        "classes = ('0', '1', '2', '3',\n",
        "           '4', '5', '6', '7', '8', '9')"
      ],
      "metadata": {
        "id": "piyq6PTi0hmy"
      },
      "execution_count": 4,
      "outputs": []
    },
    {
      "cell_type": "code",
      "source": [
        "import matplotlib.pyplot as plt\n",
        "import numpy as np\n",
        "\n",
        "# functions to show an image\n",
        "\n",
        "\n",
        "def imshow(img):\n",
        "    img = img   # unnormalize\n",
        "    npimg = img.numpy()\n",
        "    plt.imshow(np.transpose(npimg, (1, 2, 0)))\n",
        "    plt.show()\n",
        "\n",
        "\n",
        "# get some random training images\n",
        "dataiter = iter(trainloader)\n",
        "images, labels = next(dataiter)\n",
        "print(images.shape)\n",
        "\n",
        "# show images\n",
        "imshow(torchvision.utils.make_grid(images))\n",
        "# print labels\n",
        "print(' '.join(f'{classes[labels[j]]:5s}' for j in range(batch_size)))\n"
      ],
      "metadata": {
        "colab": {
          "base_uri": "https://localhost:8080/",
          "height": 229
        },
        "id": "J13RLSjO3qFp",
        "outputId": "3793d202-b8f0-408c-ae89-7fb9ae300978"
      },
      "execution_count": 5,
      "outputs": [
        {
          "output_type": "stream",
          "name": "stdout",
          "text": [
            "torch.Size([4, 1, 28, 28])\n"
          ]
        },
        {
          "output_type": "display_data",
          "data": {
            "text/plain": [
              "<Figure size 640x480 with 1 Axes>"
            ],
            "image/png": "[encoded data removed]"
          },
          "metadata": {}
        },
        {
          "output_type": "stream",
          "name": "stdout",
          "text": [
            "3     5     2     4    \n"
          ]
        }
      ]
    },
    {
      "cell_type": "code",
      "source": [
        "import torch.nn as nn\n",
        "import torch.nn.functional as F\n",
        "\n",
        "\n",
        "class Net(nn.Module):\n",
        "    def __init__(self):\n",
        "        super().__init__()\n",
        "        self.conv1 = nn.Conv2d(1, 6, 5)\n",
        "        self.pool = nn.MaxPool2d(2, 2)\n",
        "        self.conv2 = nn.Conv2d(6, 16, 5)\n",
        "        self.fc1 = nn.Linear(16 * 4 * 4, 120)\n",
        "        self.fc2 = nn.Linear(120, 84)\n",
        "        self.fc3 = nn.Linear(84, 10)\n",
        "\n",
        "    def forward(self, x):\n",
        "        x = self.pool(F.relu(self.conv1(x)))\n",
        "        x = self.pool(F.relu(self.conv2(x)))\n",
        "        x = torch.flatten(x, 1) # flatten all dimensions except batch\n",
        "        x = F.relu(self.fc1(x))\n",
        "        x = F.relu(self.fc2(x))\n",
        "        x = self.fc3(x)\n",
        "        return x\n",
        "\n",
        "\n",
        "net = Net()\n",
        "\n",
        "net.to(device)"
      ],
      "metadata": {
        "colab": {
          "base_uri": "https://localhost:8080/"
        },
        "id": "26hb9UHD4Wmq",
        "outputId": "d7bb0396-38e2-4e7c-94df-8336a36f0f70"
      },
      "execution_count": 6,
      "outputs": [
        {
          "output_type": "execute_result",
          "data": {
            "text/plain": [
              "Net(\n",
              "  (conv1): Conv2d(1, 6, kernel_size=(5, 5), stride=(1, 1))\n",
              "  (pool): MaxPool2d(kernel_size=2, stride=2, padding=0, dilation=1, ceil_mode=False)\n",
              "  (conv2): Conv2d(6, 16, kernel_size=(5, 5), stride=(1, 1))\n",
              "  (fc1): Linear(in_features=256, out_features=120, bias=True)\n",
              "  (fc2): Linear(in_features=120, out_features=84, bias=True)\n",
              "  (fc3): Linear(in_features=84, out_features=10, bias=True)\n",
              ")"
            ]
          },
          "metadata": {},
          "execution_count": 6
        }
      ]
    },
    {
      "cell_type": "code",
      "source": [
        "import torch.optim as optim\n",
        "\n",
        "criterion = nn.CrossEntropyLoss()\n",
        "optimizer = optim.SGD(net.parameters(), lr=0.001, momentum=0.9)"
      ],
      "metadata": {
        "id": "qPFIkScl5jaO"
      },
      "execution_count": 7,
      "outputs": []
    },
    {
      "cell_type": "code",
      "source": [
        "for epoch in range(10):  # loop over the dataset multiple times\n",
        "\n",
        "    running_loss = 0.0\n",
        "    for i, data in enumerate(trainloader, 0):\n",
        "        # get the inputs; data is a list of [inputs, labels]\n",
        "        inputs, labels = data\n",
        "        inputs, labels = inputs.to(device), labels.to(device)\n",
        "\n",
        "        # zero the parameter gradients\n",
        "        optimizer.zero_grad()\n",
        "\n",
        "        # forward + backward + optimize\n",
        "        outputs = net(inputs)\n",
        "        loss = criterion(outputs, labels)\n",
        "        loss.backward()\n",
        "        optimizer.step()\n",
        "\n",
        "        # print statistics\n",
        "        running_loss += loss.item()\n",
        "        if i % 2000 == 1999:    # print every 2000 mini-batches\n",
        "            print(f'[{epoch + 1}, {i + 1:5d}] loss: {running_loss / 2000:.3f}')\n",
        "            running_loss = 0.0\n",
        "\n",
        "print('Finished Training')"
      ],
      "metadata": {
        "colab": {
          "base_uri": "https://localhost:8080/"
        },
        "id": "7dmYiR4P5nYG",
        "outputId": "4013f258-9d98-49fa-ff25-91515bd0529e"
      },
      "execution_count": 8,
      "outputs": [
        {
          "output_type": "stream",
          "name": "stdout",
          "text": [
            "[1,  2000] loss: 1.723\n",
            "[1,  4000] loss: 0.329\n",
            "[1,  6000] loss: 0.196\n",
            "[1,  8000] loss: 0.160\n",
            "[1, 10000] loss: 0.120\n",
            "[1, 12000] loss: 0.121\n",
            "[1, 14000] loss: 0.111\n",
            "[2,  2000] loss: 0.094\n",
            "[2,  4000] loss: 0.084\n",
            "[2,  6000] loss: 0.080\n",
            "[2,  8000] loss: 0.080\n",
            "[2, 10000] loss: 0.073\n",
            "[2, 12000] loss: 0.071\n",
            "[2, 14000] loss: 0.067\n",
            "[3,  2000] loss: 0.050\n",
            "[3,  4000] loss: 0.057\n",
            "[3,  6000] loss: 0.061\n",
            "[3,  8000] loss: 0.059\n",
            "[3, 10000] loss: 0.052\n",
            "[3, 12000] loss: 0.053\n",
            "[3, 14000] loss: 0.052\n",
            "[4,  2000] loss: 0.041\n",
            "[4,  4000] loss: 0.046\n",
            "[4,  6000] loss: 0.037\n",
            "[4,  8000] loss: 0.042\n",
            "[4, 10000] loss: 0.044\n",
            "[4, 12000] loss: 0.046\n",
            "[4, 14000] loss: 0.035\n",
            "[5,  2000] loss: 0.032\n",
            "[5,  4000] loss: 0.037\n",
            "[5,  6000] loss: 0.032\n",
            "[5,  8000] loss: 0.042\n",
            "[5, 10000] loss: 0.034\n",
            "[5, 12000] loss: 0.031\n",
            "[5, 14000] loss: 0.031\n",
            "[6,  2000] loss: 0.028\n",
            "[6,  4000] loss: 0.030\n",
            "[6,  6000] loss: 0.028\n",
            "[6,  8000] loss: 0.029\n",
            "[6, 10000] loss: 0.027\n",
            "[6, 12000] loss: 0.034\n",
            "[6, 14000] loss: 0.023\n",
            "[7,  2000] loss: 0.023\n",
            "[7,  4000] loss: 0.025\n",
            "[7,  6000] loss: 0.026\n",
            "[7,  8000] loss: 0.023\n",
            "[7, 10000] loss: 0.032\n",
            "[7, 12000] loss: 0.024\n",
            "[7, 14000] loss: 0.022\n",
            "[8,  2000] loss: 0.023\n",
            "[8,  4000] loss: 0.020\n",
            "[8,  6000] loss: 0.021\n",
            "[8,  8000] loss: 0.019\n",
            "[8, 10000] loss: 0.019\n",
            "[8, 12000] loss: 0.025\n",
            "[8, 14000] loss: 0.026\n",
            "[9,  2000] loss: 0.019\n",
            "[9,  4000] loss: 0.016\n",
            "[9,  6000] loss: 0.020\n",
            "[9,  8000] loss: 0.019\n",
            "[9, 10000] loss: 0.015\n",
            "[9, 12000] loss: 0.018\n",
            "[9, 14000] loss: 0.014\n",
            "[10,  2000] loss: 0.010\n",
            "[10,  4000] loss: 0.017\n",
            "[10,  6000] loss: 0.016\n",
            "[10,  8000] loss: 0.017\n",
            "[10, 10000] loss: 0.019\n",
            "[10, 12000] loss: 0.015\n",
            "[10, 14000] loss: 0.021\n",
            "Finished Training\n"
          ]
        }
      ]
    },
    {
      "cell_type": "code",
      "source": [
        "dataiter = iter(testloader)\n",
        "images, labels = next(dataiter)\n",
        "\n",
        "# print images\n",
        "imshow(torchvision.utils.make_grid(images))\n",
        "print('GroundTruth: ', ' '.join(f'{classes[labels[j]]:5s}' for j in range(4)))"
      ],
      "metadata": {
        "colab": {
          "base_uri": "https://localhost:8080/",
          "height": 211
        },
        "id": "5CUcmT385v6X",
        "outputId": "3a27e5ba-1b66-48df-b580-e32cb0ddf2e5"
      },
      "execution_count": 9,
      "outputs": [
        {
          "output_type": "display_data",
          "data": {
            "text/plain": [
              "<Figure size 640x480 with 1 Axes>"
            ],
            "image/png": "[encoded data removed]"
          },
          "metadata": {}
        },
        {
          "output_type": "stream",
          "name": "stdout",
          "text": [
            "GroundTruth:  7     2     1     0    \n"
          ]
        }
      ]
    },
    {
      "cell_type": "code",
      "source": [
        "images, labels = images.to(device), labels.to(device)\n",
        "outputs = net(images)\n",
        "print(outputs)"
      ],
      "metadata": {
        "colab": {
          "base_uri": "https://localhost:8080/"
        },
        "id": "HzvXDOfD55Bm",
        "outputId": "7d65f504-6f02-4d5a-dea3-32a0c8b8e332"
      },
      "execution_count": 10,
      "outputs": [
        {
          "output_type": "stream",
          "name": "stdout",
          "text": [
            "tensor([[ -6.6092,   0.8733,  -0.5914,   2.0996,  -3.5285,  -3.8548, -11.4342,\n",
            "          16.7233,  -3.0982,   2.4583],\n",
            "        [  4.2803,   2.1523,  25.3824,  -7.3248,  -2.7378,  -7.7792,  -5.7056,\n",
            "          -3.3952,   0.3802,  -6.2002],\n",
            "        [ -3.4056,  15.6833,  -2.7515,  -7.3168,   1.2878,   1.0678,  -1.1009,\n",
            "           1.2877,  -1.8609,  -3.9488],\n",
            "        [ 17.4410,  -5.1633,   0.5392,  -4.7475,  -1.2740,  -2.5503,   1.2591,\n",
            "          -4.8442,  -0.9152,  -0.9783]], device='cuda:0',\n",
            "       grad_fn=<AddmmBackward0>)\n"
          ]
        }
      ]
    },
    {
      "cell_type": "code",
      "source": [
        "_, predicted = torch.max(outputs, 1)\n",
        "\n",
        "print('Predicted: ', ' '.join(f'{classes[predicted[j]]:5s}'\n",
        "                              for j in range(4)))"
      ],
      "metadata": {
        "colab": {
          "base_uri": "https://localhost:8080/"
        },
        "id": "yIXdVY4q57Tb",
        "outputId": "6abf83af-a3d3-48bd-f264-35d7f3e6b1e1"
      },
      "execution_count": 11,
      "outputs": [
        {
          "output_type": "stream",
          "name": "stdout",
          "text": [
            "Predicted:  7     2     1     0    \n"
          ]
        }
      ]
    },
    {
      "cell_type": "code",
      "source": [
        "correct = 0\n",
        "total = 0\n",
        "# since we're not training, we don't need to calculate the gradients for our outputs\n",
        "with torch.no_grad():\n",
        "    for data in testloader:\n",
        "        images, labels = data\n",
        "        images, labels = images.to(device), labels.to(device)\n",
        "        # calculate outputs by running images through the network\n",
        "        outputs = net(images)\n",
        "        # the class with the highest energy is what we choose as prediction\n",
        "        _, predicted = torch.max(outputs.data, 1)\n",
        "        total += labels.size(0)\n",
        "        correct += (predicted == labels).sum().item()\n",
        "\n",
        "print(f'Accuracy of the network on the 10000 test images: {100 * correct // total} %')"
      ],
      "metadata": {
        "colab": {
          "base_uri": "https://localhost:8080/"
        },
        "id": "U1MsVyG_59um",
        "outputId": "b65fbe1f-961a-4ea4-9e71-a8a8eb7342bd"
      },
      "execution_count": 12,
      "outputs": [
        {
          "output_type": "stream",
          "name": "stdout",
          "text": [
            "Accuracy of the network on the 10000 test images: 98 %\n"
          ]
        }
      ]
    },
    {
      "cell_type": "code",
      "source": [
        "# prepare to count predictions for each class\n",
        "correct_pred = {classname: 0 for classname in classes}\n",
        "total_pred = {classname: 0 for classname in classes}\n",
        "\n",
        "# again no gradients needed\n",
        "with torch.no_grad():\n",
        "    for data in testloader:\n",
        "        images, labels = data\n",
        "        images, labels = images.to(device), labels.to(device)\n",
        "        outputs = net(images)\n",
        "        _, predictions = torch.max(outputs, 1)\n",
        "        # collect the correct predictions for each class\n",
        "        for label, prediction in zip(labels, predictions):\n",
        "            if label == prediction:\n",
        "                correct_pred[classes[label]] += 1\n",
        "            total_pred[classes[label]] += 1\n",
        "\n",
        "\n",
        "# print accuracy for each class\n",
        "for classname, correct_count in correct_pred.items():\n",
        "    accuracy = 100 * float(correct_count) / total_pred[classname]\n",
        "    print(f'Accuracy for class: {classname:5s} is {accuracy:.1f} %')"
      ],
      "metadata": {
        "colab": {
          "base_uri": "https://localhost:8080/"
        },
        "id": "GThKkuGf6A5b",
        "outputId": "9e1d5a17-0b6e-4c5e-ff46-cc43a705e5ab"
      },
      "execution_count": 13,
      "outputs": [
        {
          "output_type": "stream",
          "name": "stdout",
          "text": [
            "Accuracy for class: 0     is 99.4 %\n",
            "Accuracy for class: 1     is 99.7 %\n",
            "Accuracy for class: 2     is 98.8 %\n",
            "Accuracy for class: 3     is 99.0 %\n",
            "Accuracy for class: 4     is 99.6 %\n",
            "Accuracy for class: 5     is 98.5 %\n",
            "Accuracy for class: 6     is 97.1 %\n",
            "Accuracy for class: 7     is 98.7 %\n",
            "Accuracy for class: 8     is 99.1 %\n",
            "Accuracy for class: 9     is 97.7 %\n"
          ]
        }
      ]
    },
    {
      "cell_type": "code",
      "source": [
        "from PIL import Image\n",
        "img = Image.open('0.png').convert('L')\n",
        "img.save('greyscale.png')\n",
        "transform1 = transforms.Compose([transforms.PILToTensor(), transforms.ConvertImageDtype(torch.float)])\n",
        "\n",
        "img_tensor = transform1(img)\n",
        "img.close()\n",
        "im_tensor = img_tensor.view(1,1,28,28)\n",
        "imshow(torchvision.utils.make_grid(im_tensor))"
      ],
      "metadata": {
        "colab": {
          "base_uri": "https://localhost:8080/",
          "height": 430
        },
        "id": "vri2sA986JNn",
        "outputId": "976616b7-262e-41d9-f7be-e3d039043553"
      },
      "execution_count": 14,
      "outputs": [
        {
          "output_type": "display_data",
          "data": {
            "text/plain": [
              "<Figure size 640x480 with 1 Axes>"
            ],
            "image/png": "[encoded data removed]"
          },
          "metadata": {}
        }
      ]
    },
    {
      "cell_type": "code",
      "source": [
        "with torch.no_grad():\n",
        "  im_tensor = im_tensor.to(device)\n",
        "  outputs = net(im_tensor)\n",
        "  print(outputs)\n",
        "\n",
        "  probs = F.softmax(outputs, dim=1)\n",
        "\n",
        "  print(probs*100)\n",
        "\n",
        "  final_probs = probs*100\n",
        "  final_probs.type(torch.int)\n",
        "\n",
        "  print(final_probs)\n",
        "\n",
        "  _, predicted = torch.max(outputs, 1)\n",
        "  probabilities = final_probs[predicted,0].item()\n",
        "\n",
        "  print('Predicted: ', ' '.join(f'{classes[predicted[0]]:5s}'\n",
        "                                ))\n",
        "  print('Probabilities: ', probabilities, \"%\")"
      ],
      "metadata": {
        "colab": {
          "base_uri": "https://localhost:8080/"
        },
        "id": "4a-NE135Ukex",
        "outputId": "e8dab7f6-f350-4072-eebb-8d78af39a091"
      },
      "execution_count": 15,
      "outputs": [
        {
          "output_type": "stream",
          "name": "stdout",
          "text": [
            "tensor([[19.2093, -4.9183,  3.2439, -6.2771,  0.9156, -6.7074, -1.8164, -3.9980,\n",
            "         -3.0463,  1.7217]], device='cuda:0')\n",
            "tensor([[1.0000e+02, 3.3229e-09, 1.1649e-05, 8.5385e-10, 1.1354e-06, 5.5529e-10,\n",
            "         7.3895e-08, 8.3401e-09, 2.1602e-08, 2.5422e-06]], device='cuda:0')\n",
            "tensor([[1.0000e+02, 3.3229e-09, 1.1649e-05, 8.5385e-10, 1.1354e-06, 5.5529e-10,\n",
            "         7.3895e-08, 8.3401e-09, 2.1602e-08, 2.5422e-06]], device='cuda:0')\n",
            "Predicted:  0        \n",
            "Probabilities:  99.99998474121094 %\n"
          ]
        }
      ]
    },
    {
      "cell_type": "code",
      "source": [
        "# prepare to count predictions for each class\n",
        "correct_pred = {classname: 0 for classname in classes}\n",
        "total_pred = {classname: 0 for classname in classes}\n",
        "\n",
        "# again no gradients needed\n",
        "with torch.no_grad():\n",
        "    for data in testloader:\n",
        "        images, labels = data\n",
        "        images, labels = images.to(device), labels.to(device)\n",
        "        outputs = net(images)\n",
        "        _, predictions = torch.max(outputs, 1)\n",
        "        # collect the correct predictions for each class\n",
        "        for label, prediction in zip(labels, predictions):\n",
        "            if label == prediction:\n",
        "                correct_pred[classes[label]] += 1\n",
        "            total_pred[classes[label]] += 1\n",
        "\n",
        "\n",
        "# print accuracy for each class\n",
        "for classname, correct_count in correct_pred.items():\n",
        "    accuracy = 100 * float(correct_count) / total_pred[classname]\n",
        "    print(f'Accuracy for class: {classname:5s} is {accuracy:.1f} %')"
      ],
      "metadata": {
        "colab": {
          "base_uri": "https://localhost:8080/"
        },
        "id": "evVS2Ey1_4tg",
        "outputId": "c0af0792-9633-488f-e3ff-ca94f13f8c2d"
      },
      "execution_count": 16,
      "outputs": [
        {
          "output_type": "stream",
          "name": "stdout",
          "text": [
            "Accuracy for class: 0     is 99.4 %\n",
            "Accuracy for class: 1     is 99.7 %\n",
            "Accuracy for class: 2     is 98.8 %\n",
            "Accuracy for class: 3     is 99.0 %\n",
            "Accuracy for class: 4     is 99.6 %\n",
            "Accuracy for class: 5     is 98.5 %\n",
            "Accuracy for class: 6     is 97.1 %\n",
            "Accuracy for class: 7     is 98.7 %\n",
            "Accuracy for class: 8     is 99.1 %\n",
            "Accuracy for class: 9     is 97.7 %\n"
          ]
        }
      ]
    }
  ]
}